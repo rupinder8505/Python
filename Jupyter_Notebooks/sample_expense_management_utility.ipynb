{
 "cells": [
  {
   "cell_type": "code",
   "execution_count": 7,
   "metadata": {},
   "outputs": [],
   "source": [
    "# Sample Data \n",
    "revenue = [14574.49, 7606.46, 8611.41, 9175.41, 8058.65, 8105.44, 11496.28, 9766.09, 10305.32, 14379.96, 10713.97, 15433.50]\n",
    "expenses = [12051.82, 5695.07, 12319.20, 12089.72, 8658.57, 840.20, 3285.73, 5821.12, 6976.93, 16618.61, 10054.37, 3803.96]"
   ]
  },
  {
   "cell_type": "code",
   "execution_count": 11,
   "metadata": {},
   "outputs": [
    {
     "name": "stdout",
     "output_type": "stream",
     "text": [
      "[2522.67, 1911.3900000000003, -3707.790000000001, -2914.3099999999995, -599.9200000000001, 7265.24, 8210.550000000001, 3944.9700000000003, 3328.3899999999994, -2238.6500000000015, 659.5999999999985, 11629.54]\n"
     ]
    }
   ],
   "source": [
    "def get_monthly_profit(revenue,expenses):\n",
    "    \"\"\"\n",
    "     returns monthly profit DF\n",
    "    \"\"\"\n",
    "    profit = []\n",
    "    for i in range(0,len(revenue)):\n",
    "        profit.append(revenue[i]-expenses[i])\n",
    "    return profit\n",
    "\n",
    "print(get_monthly_profit(revenue, expenses))\n",
    "    "
   ]
  },
  {
   "cell_type": "code",
   "execution_count": 12,
   "metadata": {},
   "outputs": [],
   "source": [
    "def get_profit_after_tax(revenue_list, tax_rate):\n",
    "    \"\"\"\n",
    "    revenue_list: list (with each monoth of revenue at each place)\n",
    "    tax_rate: interger percentage rate for tax\n",
    "\n",
    "    return: new list with after tax revenue\n",
    "    \"\"\"\n",
    "    after_tax = []\n",
    "    for i in range(0, len(revenue_list)):\n",
    "        after_tax.append(revenue_list[i]*(1-(tax_rate)/100))\n",
    "    return after_tax\n",
    "\n",
    "after_tax_revenue = get_profit_after_tax(revenue, 30)"
   ]
  },
  {
   "cell_type": "code",
   "execution_count": 13,
   "metadata": {},
   "outputs": [
    {
     "name": "stdout",
     "output_type": "stream",
     "text": [
      "[-1849.6769999999997, -370.5479999999998, -6291.213000000002, -5666.933, -3017.5150000000003, 4833.607999999999, 4761.665999999999, 1015.143, 236.79399999999896, -6552.638000000003, -2554.591000000002, 6999.489999999999]\n"
     ]
    }
   ],
   "source": [
    "print(get_monthly_profit(after_tax_revenue, expenses))"
   ]
  },
  {
   "cell_type": "code",
   "execution_count": null,
   "metadata": {},
   "outputs": [],
   "source": []
  }
 ],
 "metadata": {
  "kernelspec": {
   "display_name": "Python 3",
   "language": "python",
   "name": "python3"
  },
  "language_info": {
   "codemirror_mode": {
    "name": "ipython",
    "version": 3
   },
   "file_extension": ".py",
   "mimetype": "text/x-python",
   "name": "python",
   "nbconvert_exporter": "python",
   "pygments_lexer": "ipython3",
   "version": "3.6.4"
  }
 },
 "nbformat": 4,
 "nbformat_minor": 1
}

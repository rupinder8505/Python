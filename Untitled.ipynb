{
 "cells": [
  {
   "cell_type": "code",
   "execution_count": 2,
   "metadata": {},
   "outputs": [],
   "source": [
    "import numpy as np\n",
    "from numpy.random import randn"
   ]
  },
  {
   "cell_type": "code",
   "execution_count": 38,
   "metadata": {},
   "outputs": [],
   "source": [
    "N = 10000000\n",
    "counter = 0"
   ]
  },
  {
   "cell_type": "code",
   "execution_count": 41,
   "metadata": {},
   "outputs": [
    {
     "name": "stdout",
     "output_type": "stream",
     "text": [
      "[1, 2, 13, 4]\n",
      "[1, 2, 13, 4]\n",
      "[1, 2, 11, 4]\n"
     ]
    }
   ],
   "source": [
    "c =  [1,2,3,4]\n",
    "d = c\n",
    "d[2] = 13\n",
    "print (c)\n",
    "\n",
    "import copy\n",
    "e = copy.deepcopy(c)\n",
    "e[2] = 11\n",
    "print (c)\n",
    "print (e)"
   ]
  },
  {
   "cell_type": "code",
   "execution_count": 45,
   "metadata": {},
   "outputs": [
    {
     "name": "stdout",
     "output_type": "stream",
     "text": [
      "13\n",
      "[]\n",
      "[]\n",
      "[13, 1, 1, 12]\n"
     ]
    }
   ],
   "source": [
    "a = [12,312,1,12,1,12,13]\n",
    "print(a[-1])\n",
    "print(a[-1:-6])\n",
    "print(a[-1:-7])\n",
    "print(a[-1:-8:-2])"
   ]
  },
  {
   "cell_type": "code",
   "execution_count": null,
   "metadata": {},
   "outputs": [],
   "source": []
  }
 ],
 "metadata": {
  "kernelspec": {
   "display_name": "Python 3",
   "language": "python",
   "name": "python3"
  },
  "language_info": {
   "codemirror_mode": {
    "name": "ipython",
    "version": 3
   },
   "file_extension": ".py",
   "mimetype": "text/x-python",
   "name": "python",
   "nbconvert_exporter": "python",
   "pygments_lexer": "ipython3",
   "version": "3.8.5"
  }
 },
 "nbformat": 4,
 "nbformat_minor": 4
}
